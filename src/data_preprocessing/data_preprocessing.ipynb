{
 "cells": [
  {
   "cell_type": "markdown",
   "id": "3fd87039",
   "metadata": {},
   "source": [
    "# Housing data preprocessing"
   ]
  },
  {
   "cell_type": "code",
   "execution_count": 2,
   "id": "7440be44",
   "metadata": {},
   "outputs": [],
   "source": [
    "import pandas as pd\n",
    "import numpy as np"
   ]
  },
  {
   "cell_type": "code",
   "execution_count": 3,
   "id": "50f8a62f",
   "metadata": {},
   "outputs": [],
   "source": [
    "CITY = 'opole'"
   ]
  },
  {
   "cell_type": "code",
   "execution_count": 30,
   "id": "a5900a5c",
   "metadata": {},
   "outputs": [],
   "source": [
    "df = pd.read_csv(f'../csv_data/raw/{CITY}.csv')\n",
    "df.reset_index(drop=True)\n",
    "df = df.drop(['title', 'url', 'city'], axis=1)\n",
    "\n",
    "df['rent'] = df['rent'].replace('none', np.nan)\n",
    "\n",
    "df['rent'] = pd.to_numeric(df['rent'], errors='coerce')\n",
    "\n",
    "df['rooms'] = pd.to_numeric(df['rooms'], errors='coerce')\n",
    "\n",
    "df['price'] = pd.to_numeric(df['price'], errors='coerce')\n",
    "df = df.dropna(subset=['price'])\n",
    "df['price'] = df['price'].astype('int32')\n",
    "\n",
    "address_mean = df.groupby('address')['price'].mean()\n",
    "df['address_encoded'] = df['address'].map(address_mean)\n",
    "df = df.drop(['address'], axis=1)\n",
    "\n",
    "categorical_cols = ['district', 'floor_no', 'heating_info', 'building_type']\n",
    "df = pd.get_dummies(df, columns=categorical_cols, drop_first=True)\n",
    "\n",
    "df.to_csv(f'../csv_data/processed/{CITY}.csv')"
   ]
  }
 ],
 "metadata": {
  "kernelspec": {
   "display_name": "Python 3",
   "language": "python",
   "name": "python3"
  },
  "language_info": {
   "codemirror_mode": {
    "name": "ipython",
    "version": 3
   },
   "file_extension": ".py",
   "mimetype": "text/x-python",
   "name": "python",
   "nbconvert_exporter": "python",
   "pygments_lexer": "ipython3",
   "version": "3.13.2"
  }
 },
 "nbformat": 4,
 "nbformat_minor": 5
}
